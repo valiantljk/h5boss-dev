{
 "cells": [
  {
   "cell_type": "markdown",
   "metadata": {},
   "source": [
    "# H5BossIO-subset"
   ]
  },
  {
   "cell_type": "code",
   "execution_count": 1,
   "metadata": {
    "collapsed": false
   },
   "outputs": [
    {
     "ename": "ImportError",
     "evalue": "No module named h5boss.select",
     "output_type": "error",
     "traceback": [
      "\u001b[1;31m\u001b[0m",
      "\u001b[1;31mImportError\u001b[0mTraceback (most recent call last)",
      "\u001b[1;32m<ipython-input-1-bf4292010836>\u001b[0m in \u001b[0;36m<module>\u001b[1;34m()\u001b[0m\n\u001b[0;32m     11\u001b[0m \u001b[1;31m#from h5boss.selectmpi import select\u001b[0m\u001b[1;33m\u001b[0m\u001b[1;33m\u001b[0m\u001b[0m\n\u001b[0;32m     12\u001b[0m \u001b[1;31m#from h5boss.select_c import select\u001b[0m\u001b[1;33m\u001b[0m\u001b[1;33m\u001b[0m\u001b[0m\n\u001b[1;32m---> 13\u001b[1;33m \u001b[1;32mfrom\u001b[0m \u001b[0mh5boss\u001b[0m\u001b[1;33m.\u001b[0m\u001b[0mselect\u001b[0m \u001b[1;32mimport\u001b[0m \u001b[0mselect\u001b[0m\u001b[1;33m\u001b[0m\u001b[0m\n\u001b[0m\u001b[0;32m     14\u001b[0m \u001b[1;31m#from h5boss.select_idx import select\u001b[0m\u001b[1;33m\u001b[0m\u001b[1;33m\u001b[0m\u001b[0m\n\u001b[0;32m     15\u001b[0m \u001b[1;32mimport\u001b[0m \u001b[0msys\u001b[0m\u001b[1;33m,\u001b[0m\u001b[0mos\u001b[0m\u001b[1;33m\u001b[0m\u001b[0m\n",
      "\u001b[1;31mImportError\u001b[0m: No module named h5boss.select"
     ]
    }
   ],
   "source": [
    "#!/usr/bin/env python\n",
    "\"\"\"\n",
    "Create an HDF5 file from BOSS data\n",
    "\n",
    "TODO:\n",
    "  - include comments in meta/attrs\n",
    "  - platelist quantities\n",
    "\"\"\"\n",
    "from __future__ import division, print_function\n",
    "#from __future__ import absolute_import\n",
    "#from h5boss.selectmpi import select\n",
    "#from h5boss.select_c import select\n",
    "from h5boss.select import select\n",
    "#from h5boss.select_idx import select\n",
    "import sys,os\n",
    "import time\n",
    "import optparse\n",
    "import csv\n",
    "import traceback\n",
    "import pandas as pd\n",
    "import numpy as np\n",
    "import optparse\n",
    "import argparse\n",
    "import commands\n",
    "parser = argparse.ArgumentParser(prog='subset')\n",
    "parser.add_argument(\"input\",  help=\"HDF5 input list\")\n",
    "parser.add_argument(\"output\", help=\"HDF5 output\")\n",
    "parser.add_argument(\"pmf\",    help=\"Plate/mjd/fiber list in csv\")\n",
    "opts=parser.parse_args()\n",
    "pmflist = opts.pmf\n",
    "infiles = opts.input\n",
    "outfile = opts.output\n",
    "nproc=1\n",
    "tstart=time.time()\n",
    "plates=[]\n",
    "mjds=[]\n",
    "fibers=[]\n",
    "try:\n",
    " df = pd.read_csv(pmflist,delimiter=' ',names=[\"plates\",\"mjds\",\"fibers\"],index_col=None,dtype=str)\n",
    " df = df.sort(['plates'],ascending=[1])\n",
    " plates = list(map(str,df['plates'].values))\n",
    " plates_array = np.asarray(plates)\n",
    " plates_uni_array = np.unique(plates_array)\n",
    " print (\"number of unique plates is %d\"%plates_uni_array.size)\n",
    " mjds = list(map(str,df['mjds'].values))\n",
    " fibers = list(map(str,df['fibers'].values))\n",
    "except Exception as e:\n",
    " print(\"pmf csv read error or not exist:%s\"%e,pmflist)\n",
    " print(\"e.g., 1st row of csv should be 'plates mjds fibers'\")\n",
    "infile=[]\n",
    "try:\n",
    " with open(infiles,'rt') as f:\n",
    "  reader = csv.reader(f)\n",
    "  infile = list(reader)\n",
    "  infile = [x for sublist in infile for x in sublist]\n",
    "except Exception as e:\n",
    " print (\"input filelist csv read error or not exist: %s\"%e,infiles)\n",
    "\n",
    "print (\"Before running selection, parsing costs %.2f\"%(time.time()-tstart))\n",
    "if(len(plates)==0 or len(infile)==0):\n",
    "  print(\"pmf or input is empty\")\n",
    "  sys.exit(0)\n",
    "\n",
    "print (\"Input: %d files:\"%len(infile),infile[0],\"...\",infile[-1])\n",
    "print (\"Output: \", outfile)\n",
    "print (\"Running selection...\")\n",
    "tstart=time.time()\n",
    "try:\n",
    " select(infile, outfile, plates, mjds, fibers)\n",
    "except Exception as e:\n",
    " print (\"Error in select:\")\n",
    " traceback.print_exc()\n",
    "print (\"Done selection\")\n",
    "print (\"Total selection Cost %.2f\"%(time.time()-tstart))\n"
   ]
  },
  {
   "cell_type": "code",
   "execution_count": null,
   "metadata": {
    "collapsed": true
   },
   "outputs": [],
   "source": []
  }
 ],
 "metadata": {
  "kernelspec": {
   "display_name": "Python 2",
   "language": "python",
   "name": "python2"
  },
  "language_info": {
   "codemirror_mode": {
    "name": "ipython",
    "version": 2
   },
   "file_extension": ".py",
   "mimetype": "text/x-python",
   "name": "python",
   "nbconvert_exporter": "python",
   "pygments_lexer": "ipython2",
   "version": "2.7.11"
  }
 },
 "nbformat": 4,
 "nbformat_minor": 0
}
